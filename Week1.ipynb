{
  "nbformat": 4,
  "nbformat_minor": 0,
  "metadata": {
    "colab": {
      "name": "Week1.ipynb",
      "provenance": []
    },
    "kernelspec": {
      "name": "python3",
      "display_name": "Python 3"
    },
    "language_info": {
      "name": "python"
    }
  },
  "cells": [
    {
      "cell_type": "code",
      "execution_count": 4,
      "metadata": {
        "colab": {
          "base_uri": "https://localhost:8080/"
        },
        "id": "kOYKEwMopYEJ",
        "outputId": "5732501b-4a32-4e8a-a400-5f69160503df"
      },
      "outputs": [
        {
          "output_type": "stream",
          "name": "stdout",
          "text": [
            "Downloading data from https://storage.googleapis.com/tensorflow/tf-keras-datasets/mnist.npz\n",
            "11493376/11490434 [==============================] - 0s 0us/step\n",
            "11501568/11490434 [==============================] - 0s 0us/step\n"
          ]
        }
      ],
      "source": [
        "from keras.datasets import mnist\n",
        "data = mnist.load_data()"
      ]
    },
    {
      "cell_type": "code",
      "source": [
        "data\n",
        "type(data)"
      ],
      "metadata": {
        "colab": {
          "base_uri": "https://localhost:8080/"
        },
        "id": "BsMlT51ppZGg",
        "outputId": "b24a3dc2-7cbc-46f6-e660-5159f137dfb6"
      },
      "execution_count": 5,
      "outputs": [
        {
          "output_type": "execute_result",
          "data": {
            "text/plain": [
              "tuple"
            ]
          },
          "metadata": {},
          "execution_count": 5
        }
      ]
    },
    {
      "cell_type": "code",
      "source": [
        "(X_train, y_train), (X_test, y_test) = data\n",
        "X_train[0].shape\n",
        "X_train.shape"
      ],
      "metadata": {
        "colab": {
          "base_uri": "https://localhost:8080/"
        },
        "id": "Z7QVbeL7pasS",
        "outputId": "0a6ab047-7e3c-4a51-d11e-f831e3474d92"
      },
      "execution_count": 6,
      "outputs": [
        {
          "output_type": "execute_result",
          "data": {
            "text/plain": [
              "(60000, 28, 28)"
            ]
          },
          "metadata": {},
          "execution_count": 6
        }
      ]
    },
    {
      "cell_type": "code",
      "source": [
        "X_train = X_train.reshape((X_train.shape[0], 28*28)).astype('float32')\n",
        "X_test = X_test.reshape((X_test.shape[0], 28*28)).astype('float32')"
      ],
      "metadata": {
        "id": "2ve8ZD_lpclD"
      },
      "execution_count": 8,
      "outputs": []
    },
    {
      "cell_type": "code",
      "source": [
        "X_train = X_train / 255\n",
        "X_test = X_test / 255"
      ],
      "metadata": {
        "id": "XVBYsdTCpl7P"
      },
      "execution_count": 9,
      "outputs": []
    },
    {
      "cell_type": "code",
      "source": [
        "from keras.models import Sequential\n",
        "from keras.layers import Dense\n",
        "model = Sequential()\n",
        "model.add(Dense(32, input_dim = 28 * 28, activation= 'relu'))\n",
        "model.add(Dense(64, activation = 'relu'))\n",
        "model.add(Dense(10, activation = 'softmax'))"
      ],
      "metadata": {
        "id": "QB_4gq1ApnKj"
      },
      "execution_count": 10,
      "outputs": []
    },
    {
      "cell_type": "code",
      "source": [
        "model.compile(optimizer='adam', loss='mse')\n",
        "model.fit(X_train,y_train,epochs=10,batch_size=100)"
      ],
      "metadata": {
        "colab": {
          "base_uri": "https://localhost:8080/"
        },
        "id": "bBRjlpY_po9-",
        "outputId": "5a4b3f31-e368-4e36-efab-8f43ac287053"
      },
      "execution_count": 13,
      "outputs": [
        {
          "output_type": "stream",
          "name": "stdout",
          "text": [
            "Epoch 1/10\n",
            "600/600 [==============================] - 3s 4ms/step - loss: 27.3045\n",
            "Epoch 2/10\n",
            "600/600 [==============================] - 2s 4ms/step - loss: 27.3045\n",
            "Epoch 3/10\n",
            "600/600 [==============================] - 2s 3ms/step - loss: 27.3045\n",
            "Epoch 4/10\n",
            "600/600 [==============================] - 2s 3ms/step - loss: 27.3045\n",
            "Epoch 5/10\n",
            "600/600 [==============================] - 2s 4ms/step - loss: 27.3045\n",
            "Epoch 6/10\n",
            "600/600 [==============================] - 3s 5ms/step - loss: 27.3045\n",
            "Epoch 7/10\n",
            "600/600 [==============================] - 4s 6ms/step - loss: 27.3045\n",
            "Epoch 8/10\n",
            "600/600 [==============================] - 4s 7ms/step - loss: 27.3045\n",
            "Epoch 9/10\n",
            "600/600 [==============================] - 3s 5ms/step - loss: 27.3045\n",
            "Epoch 10/10\n",
            "600/600 [==============================] - 2s 4ms/step - loss: 27.3045\n"
          ]
        },
        {
          "output_type": "execute_result",
          "data": {
            "text/plain": [
              "<keras.callbacks.History at 0x7f361906ee90>"
            ]
          },
          "metadata": {},
          "execution_count": 13
        }
      ]
    },
    {
      "cell_type": "code",
      "source": [
        "model.evaluate(X_test,y_test)"
      ],
      "metadata": {
        "colab": {
          "base_uri": "https://localhost:8080/"
        },
        "id": "3w2OmgQSp8KO",
        "outputId": "c6032a68-ae1f-4259-ce95-8e78cb9f854d"
      },
      "execution_count": 14,
      "outputs": [
        {
          "output_type": "stream",
          "name": "stdout",
          "text": [
            "313/313 [==============================] - 1s 2ms/step - loss: 27.2503\n"
          ]
        },
        {
          "output_type": "execute_result",
          "data": {
            "text/plain": [
              "27.25031280517578"
            ]
          },
          "metadata": {},
          "execution_count": 14
        }
      ]
    },
    {
      "cell_type": "code",
      "source": [
        ""
      ],
      "metadata": {
        "id": "rVSr7cdpqI6W"
      },
      "execution_count": null,
      "outputs": []
    }
  ]
}